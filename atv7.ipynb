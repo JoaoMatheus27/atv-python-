{
 "cells": [
  {
   "cell_type": "code",
   "execution_count": null,
   "metadata": {},
   "outputs": [],
   "source": [
    "#Questão sobre a musica dos patinhos em python"
   ]
  },
  {
   "cell_type": "code",
   "execution_count": 16,
   "metadata": {},
   "outputs": [
    {
     "name": "stdout",
     "output_type": "stream",
     "text": [
      "5 patinhos foram passear. \n",
      " Além das montanhas para brincar.\n",
      " A mamãe gritou: Quá,quá,quá,quá.\n",
      " Mas so 4 patinhos voltaram de lá \n",
      "\n",
      "4 patinhos foram passear. \n",
      " Além das montanhas para brincar.\n",
      " A mamãe gritou: Quá,quá,quá,quá.\n",
      " Mas so 3 patinhos voltaram de lá \n",
      "\n",
      "3 patinhos foram passear. \n",
      " Além das montanhas para brincar.\n",
      " A mamãe gritou: Quá,quá,quá,quá.\n",
      " Mas so 2 patinhos voltaram de lá \n",
      "\n",
      "2 patinhos foram passear. \n",
      " Além das montanhas para brincar.\n",
      " A mamãe gritou: Quá,quá,quá,quá.\n",
      " Mas so 1 patinhos voltaram de lá \n",
      "\n",
      "1 patinho foi passear. \n",
      " Além das montanhas para brincar.\n",
      " A mamãe gritou: Quá,quá,quá,quá.\n",
      " Mas nenhum patinho voltou de lá \n",
      "\n"
     ]
    }
   ],
   "source": [
    "#Criando um loop para os patinhos\n",
    "for patinhos in [5,4,3,2,1]:\n",
    "    #Criei um if para caso patinhos seja igual a um a frase se adaptar\n",
    "    if patinhos == 1:\n",
    "        print(f'{patinhos} patinho foi passear. \\n Além das montanhas para brincar.\\n A mamãe gritou: Quá,quá,quá,quá.\\n Mas nenhum patinho voltou de lá \\n')\n",
    "        #Caso nao seja igual a um a frase se adapta para quando for 2 ou mais patinhos\n",
    "    else:\n",
    "        print(f'{patinhos} patinhos foram passear. \\n Além das montanhas para brincar.\\n A mamãe gritou: Quá,quá,quá,quá.\\n Mas so {patinhos - 1} patinhos voltaram de lá \\n')\n"
   ]
  },
  {
   "cell_type": "code",
   "execution_count": null,
   "metadata": {},
   "outputs": [],
   "source": [
    "#Questão sobre a musica \"Elefante incomodam muita gente\" em python"
   ]
  },
  {
   "cell_type": "code",
   "execution_count": 99,
   "metadata": {},
   "outputs": [
    {
     "name": "stdout",
     "output_type": "stream",
     "text": [
      "1 elefante incomoda muita gente, 2 elefante incomodam, muito mais\n",
      "\n",
      "2 elefantes incomodam muita gente, 3 elefantes incomodam, incomodam, muito mais\n",
      "\n",
      "3 elefantes incomodam muita gente, 4 elefantes incomodam, muito mais\n",
      "\n",
      "4 elefantes incomodam muita gente, 5 elefantes incomodam, incomodam, incomodam, incomodam, muito mais\n",
      "\n",
      "5 elefantes incomodam muita gente, 6 elefantes incomodam, muito mais\n",
      "\n",
      "6 elefantes incomodam muita gente, 7 elefantes incomodam, incomodam, incomodam, incomodam, incomodam, incomodam, muito mais\n",
      "\n",
      "7 elefantes incomodam muita gente, 8 elefantes incomodam, muito mais\n",
      "\n",
      "8 elefantes incomodam muita gente, 9 elefantes incomodam, incomodam, incomodam, incomodam, incomodam, incomodam, incomodam, incomodam, muito mais\n",
      "\n",
      "9 elefantes incomodam muita gente, 10 elefantes incomodam, muito mais\n",
      "\n",
      "10 elefantes incomodam muita gente, 11 elefantes incomodam, incomodam, incomodam, incomodam, incomodam, incomodam, incomodam, incomodam, incomodam, incomodam, muito mais\n",
      "\n"
     ]
    }
   ],
   "source": [
    "#varivel pra incomodam pra simplificar e para definir o valor de elfante\n",
    "i = \"incomodam, \"\n",
    "elefante = 0\n",
    "#loop para elefante usando range\n",
    "for elefante in range(1,11):\n",
    "    #caso elefante seja igual a 1 o texto fica no singular\n",
    "    if elefante == 1:\n",
    "        print(f'{elefante } elefante incomoda muita gente, {elefante+1 } elefante {i}muito mais\\n')\n",
    "    #caso elefante seja par o texto repete a palavra incomodam conforme a musica\n",
    "    elif elefante %2 == 0:\n",
    "        print(f'{elefante} elefantes incomodam muita gente, {elefante+1 } elefantes {i * elefante  }muito mais\\n')\n",
    "    #Printa normalmente sem repetiçao e no plural\n",
    "    else:\n",
    "        print(f'{elefante} elefantes incomodam muita gente, {elefante+1 } elefantes {i}muito mais\\n')\n",
    "   \n",
    "\n",
    "\n",
    "    "
   ]
  },
  {
   "cell_type": "code",
   "execution_count": 124,
   "metadata": {},
   "outputs": [
    {
     "name": "stdout",
     "output_type": "stream",
     "text": [
      "10 elefantes incomodam muita gente, 10 elefantes incomodam, incomodam, incomodam, incomodam, incomodam, incomodam, incomodam, incomodam, incomodam, incomodam, muito mais\n",
      "\n",
      "9 elefantes incomodam muita gente, 9 elefantes incomodam, muito mais\n",
      "\n",
      "8 elefantes incomodam muita gente, 8 elefantes incomodam, incomodam, incomodam, incomodam, incomodam, incomodam, incomodam, incomodam, muito mais\n",
      "\n",
      "7 elefantes incomodam muita gente, 7 elefantes incomodam, muito mais\n",
      "\n",
      "6 elefantes incomodam muita gente, 6 elefantes incomodam, incomodam, incomodam, incomodam, incomodam, incomodam, muito mais\n",
      "\n",
      "5 elefantes incomodam muita gente, 5 elefantes incomodam, muito mais\n",
      "\n",
      "4 elefantes incomodam muita gente, 4 elefantes incomodam, incomodam, incomodam, incomodam, muito mais\n",
      "\n",
      "3 elefantes incomodam muita gente, 3 elefantes incomodam, muito mais\n",
      "\n",
      "2 elefantes incomodam muita gente, 2 elefantes incomodam, incomodam, muito mais\n",
      "\n",
      "1 elefante incomoda muita gente, 1 elefante incomodam, muito mais\n",
      "\n"
     ]
    }
   ],
   "source": [
    "#varivel pra incomodam pra simplificar e para definir o valor de elfante\n",
    "i = \"incomodam, \"\n",
    "elefante = 0\n",
    "#Crinado lista para os numeros\n",
    "for elefante in [10,9,8,7,6,5,4,3,2,1]:\n",
    "    if elefante == 1:\n",
    "        print(f'{elefante } elefante incomoda muita gente, {elefante } elefante {i}muito mais\\n')\n",
    "    elif elefante %2 == 0:\n",
    "        print(f'{elefante} elefantes incomodam muita gente, {elefante } elefantes {i * elefante  }muito mais\\n')\n",
    "    else:\n",
    "        print(f'{elefante} elefantes incomodam muita gente, {elefante } elefantes {i}muito mais\\n')\n",
    "   "
   ]
  },
  {
   "cell_type": "code",
   "execution_count": null,
   "metadata": {},
   "outputs": [],
   "source": [
    "#Fazendo a música \"Mariana\" em python"
   ]
  },
  {
   "cell_type": "code",
   "execution_count": 2,
   "metadata": {},
   "outputs": [
    {
     "name": "stdout",
     "output_type": "stream",
     "text": [
      " Mariana conta 1, Mariana conta,1, Ana viva Mariana\n",
      " Mariana conta 2, Mariana conta [1, 2] Ana, viva Mariana\n",
      " Mariana conta 3, Mariana conta [1, 2, 3] Ana, viva Mariana\n",
      " Mariana conta 4, Mariana conta [1, 2, 3, 4] Ana, viva Mariana\n",
      " Mariana conta 5, Mariana conta [1, 2, 3, 4, 5] Ana, viva Mariana\n",
      " Mariana conta 6, Mariana conta [1, 2, 3, 4, 5, 6] Ana, viva Mariana\n",
      " Mariana conta 7, Mariana conta [1, 2, 3, 4, 5, 6, 7] Ana, viva Mariana\n",
      " Mariana conta 8, Mariana conta [1, 2, 3, 4, 5, 6, 7, 8] Ana, viva Mariana\n",
      " Mariana conta 9, Mariana conta [1, 2, 3, 4, 5, 6, 7, 8, 9] Ana, viva Mariana\n",
      " Mariana conta 10, Mariana conta [1, 2, 3, 4, 5, 6, 7, 8, 9, 10] Ana, viva Mariana\n"
     ]
    }
   ],
   "source": [
    "n = 1\n",
    "Mariana = [1,2,3,4,5,6,7,8,9,10]\n",
    "for n in Mariana:\n",
    "    if n == 1:\n",
    "        print(f\" Mariana conta {n}, Mariana conta,{n}, Ana viva Mariana\")\n",
    "    else:\n",
    "        print(f\" Mariana conta {n}, Mariana conta {Mariana[0:n]} Ana, viva Mariana\")"
   ]
  }
 ],
 "metadata": {
  "kernelspec": {
   "display_name": "Python 3",
   "language": "python",
   "name": "python3"
  },
  "language_info": {
   "codemirror_mode": {
    "name": "ipython",
    "version": 3
   },
   "file_extension": ".py",
   "mimetype": "text/x-python",
   "name": "python",
   "nbconvert_exporter": "python",
   "pygments_lexer": "ipython3",
   "version": "3.11.9"
  }
 },
 "nbformat": 4,
 "nbformat_minor": 2
}
