{
 "cells": [
  {
   "cell_type": "code",
   "execution_count": 141,
   "metadata": {},
   "outputs": [],
   "source": [
    "L = [] #lista vazia\n",
    "L = list() #construtor de listas"
   ]
  },
  {
   "cell_type": "code",
   "execution_count": 142,
   "metadata": {},
   "outputs": [
    {
     "data": {
      "text/plain": [
       "3"
      ]
     },
     "execution_count": 142,
     "metadata": {},
     "output_type": "execute_result"
    }
   ],
   "source": [
    "dias = [3,1,10]\n",
    "dias[0]\n"
   ]
  },
  {
   "cell_type": "code",
   "execution_count": 143,
   "metadata": {},
   "outputs": [
    {
     "data": {
      "text/plain": [
       "1"
      ]
     },
     "execution_count": 143,
     "metadata": {},
     "output_type": "execute_result"
    }
   ],
   "source": [
    "dias[1]"
   ]
  },
  {
   "cell_type": "code",
   "execution_count": 144,
   "metadata": {},
   "outputs": [
    {
     "data": {
      "text/plain": [
       "10"
      ]
     },
     "execution_count": 144,
     "metadata": {},
     "output_type": "execute_result"
    }
   ],
   "source": [
    "dias [2]"
   ]
  },
  {
   "cell_type": "code",
   "execution_count": 145,
   "metadata": {},
   "outputs": [
    {
     "data": {
      "text/plain": [
       "[7, 8, 9]"
      ]
     },
     "execution_count": 145,
     "metadata": {},
     "output_type": "execute_result"
    }
   ],
   "source": [
    "Z = [3,8,9]\n",
    "Z[0] = 7\n",
    "Z"
   ]
  },
  {
   "cell_type": "code",
   "execution_count": 146,
   "metadata": {},
   "outputs": [
    {
     "name": "stdout",
     "output_type": "stream",
     "text": [
      "True\n",
      "True\n",
      "[5, 7, 5, 8, 9]\n",
      "[5, 7, 5, 8, 9]\n"
     ]
    }
   ],
   "source": [
    "V = [6,7,5,8,9]\n",
    "L=V\n",
    "print(V==L)\n",
    "print(V is L)\n",
    "V[0] = 5\n",
    "print(V)\n",
    "print(L)"
   ]
  },
  {
   "cell_type": "code",
   "execution_count": 147,
   "metadata": {},
   "outputs": [
    {
     "name": "stdout",
     "output_type": "stream",
     "text": [
      "True\n",
      "False\n",
      "[81, 82, 83]\n",
      "[5, 82, 83]\n"
     ]
    }
   ],
   "source": [
    "a = [81,82,83]\n",
    "b=a[:] #cria um clone com fatia separando a de b na memoria\n",
    "print (a==b) #compara conteudo\n",
    "print ( a is b) #compara valor e msm lugar na memoria\n",
    "b[0] = 5 \n",
    "print(a)\n",
    "print(b)"
   ]
  },
  {
   "cell_type": "code",
   "execution_count": 148,
   "metadata": {},
   "outputs": [
    {
     "name": "stdout",
     "output_type": "stream",
     "text": [
      "['b', 'c']\n",
      "['a', 'b', 'c', 'd']\n",
      "['d', 'e', 'f']\n",
      "['a', 'b', 'c', 'd', 'e', 'f']\n"
     ]
    }
   ],
   "source": [
    "uma_lista = ['a','b', 'c', 'd','e','f']\n",
    "print(uma_lista[1:3]) #lista comçando do elemento 1 ou 'b' ate o terceiro elemento porem so imprime ate o segundo\n",
    "print(uma_lista[:4]) #lista que imprime do elemento 0 ate o 4 porem excluindo o 4 elemnto\n",
    "print(uma_lista[3:]) #lista começando pelo terceiro elemnto ate o final\n",
    "print(uma_lista[:]) # a lista completa"
   ]
  },
  {
   "cell_type": "code",
   "execution_count": 149,
   "metadata": {},
   "outputs": [
    {
     "name": "stdout",
     "output_type": "stream",
     "text": [
      "a\n"
     ]
    }
   ],
   "source": [
    "a = ['c','b','a']\n",
    "b = a[:]\n",
    "b[0] = 'd'\n",
    "print(a[2])"
   ]
  },
  {
   "cell_type": "code",
   "execution_count": null,
   "metadata": {},
   "outputs": [],
   "source": [
    "#Atividades"
   ]
  },
  {
   "cell_type": "code",
   "execution_count": null,
   "metadata": {},
   "outputs": [],
   "source": [
    "#a)"
   ]
  },
  {
   "cell_type": "code",
   "execution_count": 150,
   "metadata": {},
   "outputs": [
    {
     "name": "stdout",
     "output_type": "stream",
     "text": [
      "[76, 92.3, 'oi', True, 4, 76, 'p', 'i', 't', 'o', 'm', 'b', 'a']\n"
     ]
    }
   ],
   "source": [
    "minhaLista = [76,92.3,'oi', True,4,76,]\n",
    "minhaLista[6:] = \"pitomba\"\n",
    "print(minhaLista)"
   ]
  },
  {
   "cell_type": "code",
   "execution_count": 151,
   "metadata": {},
   "outputs": [
    {
     "name": "stdout",
     "output_type": "stream",
     "text": [
      "[76, 92.3, 'oi', True, 4, 'pitomba', 76]\n"
     ]
    }
   ],
   "source": [
    "minhaLista = [76,92.3,'oi', True,4,76,]\n",
    "minhaLista[5:] = 'pitomba', 76\n",
    "print(minhaLista)"
   ]
  },
  {
   "cell_type": "markdown",
   "metadata": {},
   "source": [
    "B)"
   ]
  },
  {
   "cell_type": "code",
   "execution_count": 152,
   "metadata": {},
   "outputs": [
    {
     "name": "stdout",
     "output_type": "stream",
     "text": [
      "[76, 92.3, 'oi', 'Cibele', True]\n"
     ]
    }
   ],
   "source": [
    "minhaLista = [76,92.3,'oi', True,4,76,]\n",
    "minhaLista[5:] = 'pitomba',76\n",
    "minhaLista[3:] = 'Cibele' , True\n",
    "print(minhaLista)"
   ]
  },
  {
   "cell_type": "code",
   "execution_count": 153,
   "metadata": {},
   "outputs": [
    {
     "name": "stdout",
     "output_type": "stream",
     "text": [
      "[76, 92.3, 'oi', 'Cibele', True, 4, 'pitomba', 76]\n"
     ]
    }
   ],
   "source": [
    "minhaLista = [76,92.3,'oi', True,4,76,]\n",
    "minhaLista[5:] = 'pitomba',76\n",
    "minhaLista[3:4] = 'Cibele' , True\n",
    "print(minhaLista)"
   ]
  },
  {
   "cell_type": "markdown",
   "metadata": {},
   "source": [
    "C)"
   ]
  },
  {
   "cell_type": "code",
   "execution_count": 154,
   "metadata": {},
   "outputs": [
    {
     "name": "stdout",
     "output_type": "stream",
     "text": [
      "[99, 92.3, 'oi', 'Cibele', True, 4, 'pitomba', 76]\n"
     ]
    }
   ],
   "source": [
    "minhaLista = [76,92.3,'oi', True,4,76,]\n",
    "minhaLista[5:] = 'pitomba',76\n",
    "minhaLista[3:4] = 'Cibele' , True\n",
    "minhaLista[0] = 99 \n",
    "print(minhaLista)"
   ]
  },
  {
   "cell_type": "markdown",
   "metadata": {},
   "source": [
    "D)"
   ]
  },
  {
   "cell_type": "code",
   "execution_count": 155,
   "metadata": {},
   "outputs": [
    {
     "name": "stdout",
     "output_type": "stream",
     "text": [
      "[(99, 76), 92.3, 'oi', 'Cibele', True, 4, 'pitomba', 76]\n"
     ]
    }
   ],
   "source": [
    "minhaLista = [76,92.3,'oi', True,4,76,]\n",
    "minhaLista[5:] = 'pitomba',76\n",
    "minhaLista[3:4] = 'Cibele' , True\n",
    "minhaLista[0] = 99 , 76\n",
    "print(minhaLista)"
   ]
  },
  {
   "cell_type": "code",
   "execution_count": 156,
   "metadata": {},
   "outputs": [
    {
     "name": "stdout",
     "output_type": "stream",
     "text": [
      "[99, 76, 92.3, 'oi', 'Cibele', True, 4, 'pitomba', 76]\n"
     ]
    }
   ],
   "source": [
    "minhaLista = [76,92.3,'oi', True,4,76,]\n",
    "minhaLista[5:] = 'pitomba',76\n",
    "minhaLista[3:4] = 'Cibele' , True\n",
    "minhaLista[0:1] = 99 ,76\n",
    "print(minhaLista)"
   ]
  },
  {
   "cell_type": "markdown",
   "metadata": {},
   "source": [
    "E)"
   ]
  },
  {
   "cell_type": "code",
   "execution_count": 157,
   "metadata": {},
   "outputs": [
    {
     "name": "stdout",
     "output_type": "stream",
     "text": [
      "o item 3 da sua lista é 'oi'\n"
     ]
    }
   ],
   "source": [
    "minhaLista = [76,92.3,'oi', True,4,76,]\n",
    "minhaLista[5:] = 'pitomba',76 #inserindo pitomba no fim da lista sem excluir o 76\n",
    "minhaLista[3:4] = 'Cibele' , True #inserindo cibele ao indice 3 da lista sem excluir o True\n",
    "minhaLista[0:1] = 99,76 #inserindo 99 ao inicio da lista sem excluir o 76\n",
    "if minhaLista[0] == 'oi': #tentando encontrar o item 'oi' na lista\n",
    "    print(\"o item 0 da sua lista é 'oi'\")\n",
    "elif minhaLista[1] == 'oi':                 #elif é a junçao do if e else para evitar o spam de if e else\n",
    "    print(\"o item 1 da sua lista é 'oi'\")\n",
    "elif minhaLista[2] == 'oi':\n",
    "    print(\"o item 2 da sua lista é 'oi'\")\n",
    "elif minhaLista[3] == 'oi':\n",
    "    print(\"o item 3 da sua lista é 'oi'\")\n",
    "                          "
   ]
  },
  {
   "cell_type": "markdown",
   "metadata": {},
   "source": [
    "F)"
   ]
  },
  {
   "cell_type": "code",
   "execution_count": 164,
   "metadata": {},
   "outputs": [
    {
     "name": "stdout",
     "output_type": "stream",
     "text": [
      "o item 3 da sua lista é 'oi'\n",
      "[99, 76, 92.3, 'oi', 4, 'pitomba', 76]\n"
     ]
    }
   ],
   "source": [
    "minhaLista = [76,92.3,'oi', True, 4,76,]\n",
    "minhaLista[5:] = 'pitomba',76 #inserindo pitomba no fim da lista sem excluir o 76\n",
    "minhaLista[3:4] = 'Cibele' , True #inserindo cibele ao indice 3 da lista sem excluir o True\n",
    "minhaLista[0:1] = 99,76 #inserindo 99 ao inicio da lista sem excluir o 76\n",
    "if minhaLista[0] == 'oi': #tentando encontrar o item 'oi' na lista\n",
    "    print(\"o item 0 da sua lista é 'oi'\")\n",
    "elif minhaLista[1] == 'oi':                 #elif é a junçao do if e else para evitar o spam de if e else\n",
    "    print(\"o item 1 da sua lista é 'oi'\")\n",
    "elif minhaLista[2] == 'oi':\n",
    "    print(\"o item 2 da sua lista é 'oi'\")\n",
    "elif minhaLista[3] == 'oi':\n",
    "    print(\"o item 3 da sua lista é 'oi'\")\n",
    "#minhaLista[5] = False , uma das alternativas que achei, tirando o true por outro elemnto\n",
    "    print(minhaLista[:4] + minhaLista[6:])\n"
   ]
  },
  {
   "cell_type": "code",
   "execution_count": null,
   "metadata": {},
   "outputs": [],
   "source": []
  }
 ],
 "metadata": {
  "kernelspec": {
   "display_name": "Python 3",
   "language": "python",
   "name": "python3"
  },
  "language_info": {
   "codemirror_mode": {
    "name": "ipython",
    "version": 3
   },
   "file_extension": ".py",
   "mimetype": "text/x-python",
   "name": "python",
   "nbconvert_exporter": "python",
   "pygments_lexer": "ipython3",
   "version": "3.11.9"
  }
 },
 "nbformat": 4,
 "nbformat_minor": 2
}
