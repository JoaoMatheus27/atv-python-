{
 "cells": [
  {
   "cell_type": "code",
   "execution_count": 15,
   "metadata": {},
   "outputs": [],
   "source": [
    "#criando classe\n",
    "class Animal():\n",
    "    #cponstrutor de classe\n",
    "    def __init__(self, name, weight, color):\n",
    "    #atributos\n",
    "        self.nome = name\n",
    "        self.peso = weight\n",
    "        self.corDoPelo = color\n",
    "    def imprimirDados(self):\n",
    "        return(\"Nome: %s \\nPeso: %s\" %(self.nome, self.peso)) #%s tras oque esta no parenteses\n",
    "    def latir(self, barulho):\n",
    "        print(barulho)\n"
   ]
  },
  {
   "cell_type": "code",
   "execution_count": 16,
   "metadata": {},
   "outputs": [
    {
     "name": "stdout",
     "output_type": "stream",
     "text": [
      "Nome: Woody \n",
      "Peso: 9\n",
      "Au!,Au!\n",
      "Nome: João \n",
      "Peso: 80\n",
      "Miau\n"
     ]
    }
   ],
   "source": [
    "#instanciando um objeto cachorro\n",
    "caozinho = Animal(\"Woody\" , 9, \"preto\")\n",
    "gato = Animal(\"João\", 80, \"preto\")\n",
    "\n",
    "#chamando o metodo do objeto criado\n",
    "print(caozinho.imprimirDados())\n",
    "caozinho.latir(\"Au!,Au!\")\n",
    "\n",
    "print(gato.imprimirDados())\n",
    "gato.latir(\"Miau\")"
   ]
  },
  {
   "cell_type": "code",
   "execution_count": null,
   "metadata": {},
   "outputs": [],
   "source": [
    "#Criando uma classe chamada livro\n",
    "class Livro():\n",
    "    #este método vai inicializar cada objeto criado a partir desta classe\n",
    "    #O nome deste método é __init__\n",
    "    #(self) é uma referencia a cada atributo de um objeto criado a partir desta classe\n",
    "    def __init__(self):\n",
    "\n",
    "        #atributos de cada objeto criado a partir desta classe\n",
    "        #o self indica que estes são atributos dos objetos\n",
    "        self.titulo = 'O Monge e o Executivo'\n",
    "        self.isbn = 9988888\n",
    "        print(\"Construir chamado para criar um objeto desta classe\")\n",
    "\n",
    "    #Método sao funções, que recebem como parâmetro atributos do objeto criado\n",
    "    def imprime(self):\n",
    "        print(\"Foi criado o livro %s e ISBN %d\" %(self.titulo,self.isbn))"
   ]
  },
  {
   "cell_type": "code",
   "execution_count": null,
   "metadata": {},
   "outputs": [],
   "source": [
    "#Criando uma instacia sempre que for cadastrar algo novo\n",
    "Livro1 = Livro()"
   ]
  },
  {
   "cell_type": "code",
   "execution_count": null,
   "metadata": {},
   "outputs": [],
   "source": [
    "#Construtor chamado para criar um objeto desta classe"
   ]
  },
  {
   "cell_type": "code",
   "execution_count": null,
   "metadata": {},
   "outputs": [],
   "source": [
    "#Criando classe com parâmetro no método construtor"
   ]
  },
  {
   "cell_type": "code",
   "execution_count": 17,
   "metadata": {},
   "outputs": [
    {
     "name": "stdout",
     "output_type": "stream",
     "text": [
      "Este é o livro A Menina que Roubava Livros e ISBN 77886611\n"
     ]
    }
   ],
   "source": [
    "class Livro():\n",
    "    def __init__(self,titulo,isbn):\n",
    "        self.titulo = titulo\n",
    "        self.isbn = isbn\n",
    "        print(\"Este é o livro %s e ISBN %d\" %(titulo,isbn))\n",
    "\n",
    "#Criando o objeto Livro2 que é uma instãncia da classe Livro\n",
    "Livro2 = Livro(\"A Menina que Roubava Livros\", 77886611)"
   ]
  },
  {
   "cell_type": "code",
   "execution_count": null,
   "metadata": {},
   "outputs": [],
   "source": [
    "#utilizando herança"
   ]
  },
  {
   "cell_type": "code",
   "execution_count": null,
   "metadata": {},
   "outputs": [],
   "source": []
  }
 ],
 "metadata": {
  "kernelspec": {
   "display_name": "Python 3",
   "language": "python",
   "name": "python3"
  },
  "language_info": {
   "codemirror_mode": {
    "name": "ipython",
    "version": 3
   },
   "file_extension": ".py",
   "mimetype": "text/x-python",
   "name": "python",
   "nbconvert_exporter": "python",
   "pygments_lexer": "ipython3",
   "version": "3.11.9"
  }
 },
 "nbformat": 4,
 "nbformat_minor": 2
}
