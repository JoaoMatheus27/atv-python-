{
 "cells": [
  {
   "cell_type": "code",
   "execution_count": 30,
   "metadata": {},
   "outputs": [
    {
     "name": "stdout",
     "output_type": "stream",
     "text": [
      "5075.0\n"
     ]
    }
   ],
   "source": [
    "preco = float(input(\"qual o preço do carro?\"))\n",
    "ano1 = int(input(\"qual o ano do carro?\"))\n",
    "\n",
    "#variaveis de taxa e resultado\n",
    "taxaano= preco * 0.015\n",
    "taxaano2= preco * 0.010\n",
    "final = taxaano + preco\n",
    "final2 = taxaano2 + preco\n",
    "\n",
    "if ano1 > 1990:\n",
    "    print(final)\n",
    "else:\n",
    "    print(final2)\n"
   ]
  },
  {
   "cell_type": "code",
   "execution_count": 150,
   "metadata": {},
   "outputs": [
    {
     "name": "stdout",
     "output_type": "stream",
     "text": [
      "seu novo salario é 7000.0 e a diferença é 2000.0\n"
     ]
    }
   ],
   "source": [
    "#variaveis do codigo\n",
    "codigos = int(input(\"digite o codigo do seu cargo, (caso nao tenha digite 0):\"))\n",
    "salarios = float(input(\"qual seu salario?\"))\n",
    "\n",
    "#condicional do gerente\n",
    "if (codigos == 101):\n",
    " novo = (10/100*salarios) + salarios\n",
    " diferenca = novo - salarios\n",
    " print('seu novo salario é',novo,'e a diferença é' ,diferenca)\n",
    "\n",
    "#condicional do engenheiro\n",
    "elif(codigos == 102):\n",
    " novo = (20/100 *salarios ) + salarios\n",
    " diferenca = novo - salarios\n",
    " print('seu novo salario é',novo,'e a diferença é' ,diferenca)\n",
    "\n",
    "#condicional do Tecnico\n",
    "elif(codigos == 103):\n",
    " novo = (30/100 *salarios ) + salarios\n",
    " diferenca = novo - salarios\n",
    " print('seu novo salario é',novo,'e a diferença é' ,diferenca)\n",
    "\n",
    "#condicional dos que nao estao na tabela\n",
    "else:\n",
    " novo = (40/100 *salarios) + salarios\n",
    " diferenca = novo - salarios\n",
    " print('seu novo salario é',novo,'e a diferença é' ,diferenca)\n"
   ]
  },
  {
   "cell_type": "code",
   "execution_count": null,
   "metadata": {},
   "outputs": [],
   "source": []
  }
 ],
 "metadata": {
  "kernelspec": {
   "display_name": "Python 3",
   "language": "python",
   "name": "python3"
  },
  "language_info": {
   "codemirror_mode": {
    "name": "ipython",
    "version": 3
   },
   "file_extension": ".py",
   "mimetype": "text/x-python",
   "name": "python",
   "nbconvert_exporter": "python",
   "pygments_lexer": "ipython3",
   "version": "3.11.9"
  }
 },
 "nbformat": 4,
 "nbformat_minor": 2
}
