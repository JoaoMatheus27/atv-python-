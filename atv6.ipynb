{
 "cells": [
  {
   "cell_type": "code",
   "execution_count": null,
   "metadata": {},
   "outputs": [],
   "source": [
    "#1 questão: Faça um programa que identifique se a letra digitada é impar ou par?"
   ]
  },
  {
   "cell_type": "code",
   "execution_count": 46,
   "metadata": {},
   "outputs": [
    {
     "name": "stdout",
     "output_type": "stream",
     "text": [
      "Sua letra é uma vogal\n"
     ]
    }
   ],
   "source": [
    "#Criando variável para letra.\n",
    "letra = input(\"Digite uma letra :\")\n",
    "\n",
    "#Situacional para diferenciar vogal de consoante.\n",
    "if letra == \"a\" or letra == \"e\" or letra == \"i\" or letra == \"o\" or letra == \"u\":\n",
    "    print(\"Sua letra é uma vogal\")\n",
    "else:\n",
    "    print(\"Sua letra é uma consoante\")\n"
   ]
  },
  {
   "cell_type": "code",
   "execution_count": null,
   "metadata": {},
   "outputs": [],
   "source": [
    "#2 questão: Faça um programa que pergunte o preço de três produtos e informe qual produto você deve comprar, sabendo que a decisão é sempre pelo mais barato."
   ]
  },
  {
   "cell_type": "code",
   "execution_count": 29,
   "metadata": {},
   "outputs": [
    {
     "name": "stdout",
     "output_type": "stream",
     "text": [
      "Digite o valor do primeiro produto :\n",
      "Digite o valor do segundo produto :\n",
      "Digite o valor do terceiro produto :\n",
      "Compre o produto 2 pelo valor de $1\n"
     ]
    }
   ],
   "source": [
    "#Criando variáveis dos números.\n",
    "preco1 = input(\"Digite o valor do primeiro produto :\")\n",
    "preco2 = input(\"Digite o valor do segundo produto :\")\n",
    "preco3 = input(\"Digite o valor do terceiro produto :\")\n",
    "\n",
    "#Criando os situacionais de preço para definir o melhor valor para compra.\n",
    "if preco1 < preco2 and preco1 < preco3 or preco3 > preco1 and preco2 > preco1:\n",
    "    print(f'Compre o produto 1 pelo valor de ${preco1}')\n",
    "\n",
    "elif preco2 < preco1 and preco2 < preco3 or preco3 > preco2 and preco1 > preco2:#Usando o elif para evitar o uso de massante de if e else.\n",
    "    print(f'Compre o produto 2 pelo valor de ${preco2}')\n",
    "\n",
    "elif preco3 < preco1 and preco3 < preco2 or preco2 > preco3 and preco1 > preco3:\n",
    "    print(f'Compre o produto 3 pelo valor de ${preco3}')\n"
   ]
  },
  {
   "cell_type": "code",
   "execution_count": null,
   "metadata": {},
   "outputs": [],
   "source": [
    "#3 questão: Faça um programa que leia três números e mostre-os em ordem crescente"
   ]
  },
  {
   "cell_type": "code",
   "execution_count": 4,
   "metadata": {},
   "outputs": [
    {
     "name": "stdout",
     "output_type": "stream",
     "text": [
      "20.0 15.0 10.0\n"
     ]
    }
   ],
   "source": [
    "#Variáveis dos números\n",
    "\n",
    "#Não esquecer de utilizar o float, para transformar a string em número. Caso não use, a lista não será ordenada de forma crescente.\n",
    "\n",
    "num1 = float(input(\"Digite um número :\"))\n",
    "num2 = float(input(\"Digite outro número :\"))\n",
    "num3 = float(input(\"Digite mais um número :\"))\n",
    "\n",
    "#Criando listas e printando em ordem crescente.\n",
    "listaNumeros = [num1,num2,num3]\n",
    "\n",
    "#definindo as variáveis do num1.No if ele como maior, no elif ele sendo o segundo maior numero, e no else ele comom o menor\n",
    "if num1 > num2 and num1 > num3 :\n",
    "  maiorNum = num1 \n",
    "elif num1 < num2 and num1 > num3 or num1 > num2 and num1 < num3:\n",
    "  medioNum = num1\n",
    "else: \n",
    "  menorNum = num1\n",
    "\n",
    "#definindo vairaveis num2.No if ele como maior, no elif ele sendo o segundo maior numero, e no else ele comom o menor\n",
    "if num2 > num1 and num2 > num3: \n",
    "  maiorNum = num2 \n",
    "elif num2 < num1 and num2 > num3 or num2 > num1 and num2 < num3:\n",
    "  medioNum = num2\n",
    "else: \n",
    "  menorNum = num2\n",
    "\n",
    "#definindo vairaveis num3. No if ele como maior, no elif ele sendo o segundo maior numero, e no else ele comom o menor\n",
    "if num3 > num2 and num3 > num1:\n",
    "  maiorNum = num3\n",
    "elif num3 < num1 and num3 > num2 or num2 > num1 and num1 < num3:\n",
    "  medioNum = num3\n",
    "else: \n",
    "  menorNum = num3\n",
    "\n",
    "print(maiorNum,medioNum,menorNum)"
   ]
  },
  {
   "cell_type": "code",
   "execution_count": null,
   "metadata": {},
   "outputs": [],
   "source": [
    "#4 questão: Faça um programa que pergunte em que turno você estuda. Peça para digitar M-matutino e V-verpertino ou N-noturno. Imprima a mensagem \"Bom dia!\",\"Boa tarde!\" ou \"Boa noite\" ou \"valor inválido,conforme o caso\""
   ]
  },
  {
   "cell_type": "code",
   "execution_count": 74,
   "metadata": {},
   "outputs": [
    {
     "name": "stdout",
     "output_type": "stream",
     "text": [
      "Valor inválido\n"
     ]
    }
   ],
   "source": [
    "#Criando variavel para perguntar os turnos.\n",
    "turno = (input(\"Qual turno você estuda? M para matutino, V para verpertino ou N para noturno :\"))\n",
    "\n",
    "#Utilizando if's para definir se é manha, tarde, noite ou se o valor é inválido.\n",
    "if turno == \"M\" or turno == \"m\":\n",
    "    print(\"Bom dia!\")\n",
    "\n",
    "elif turno == \"V\" or turno == \"v\":\n",
    "    print(\"Boa Tarde!\")\n",
    "\n",
    "elif turno == \"N\" or turno == \"n\":\n",
    "    print(\"Boa noite!\")  \n",
    "else:\n",
    "    print(\"Valor inválido\")      "
   ]
  },
  {
   "cell_type": "code",
   "execution_count": null,
   "metadata": {},
   "outputs": [],
   "source": [
    "#5 questão: Faça um programa que leia um número e exiba o dia correspondente da semana(1-Domingo, 2-Segunda, etc). Se for digitado outro valor deve retornar uma mensagem informando o valor inválido."
   ]
  },
  {
   "cell_type": "code",
   "execution_count": 10,
   "metadata": {},
   "outputs": [
    {
     "name": "stdout",
     "output_type": "stream",
     "text": [
      "inválido\n"
     ]
    }
   ],
   "source": [
    "#Criando variáveis para os dias da semana.\n",
    "listaDiasSemanais = [\"Domingo\",\"Segunda\",\"Terça\",\"Quarta\",\"Quinta\",\"Sexta\",\"Sábado\"]\n",
    "\n",
    "#Guardando o valor do input na variável \"diasNum\"\n",
    "diasNum = int(input(\"Digite um numero de 1 a 7\"))\n",
    "\n",
    "#Situacional para identificar os dias da semana ou se é inválido. \n",
    "if diasNum >= 1 and diasNum <= 7: #Dizendo que a variável \"diasNum\" tem que estar entre 1 e 7\n",
    "    print(listaDiasSemanais[diasNum - 1])#Printando um elemento da lista e tambem subtraindo 1, já que a contagem em python começa do índice zero. \n",
    "else:\n",
    "    print(\"inválido\")    \n"
   ]
  },
  {
   "cell_type": "code",
   "execution_count": 95,
   "metadata": {},
   "outputs": [
    {
     "name": "stdout",
     "output_type": "stream",
     "text": [
      "Parabéns, você foi REPROVADO suas notas foram 3.0 e 3.0, sua média foi 4.5 e seu conceito foi D \n"
     ]
    }
   ],
   "source": [
    "#5.1 questão: Faça um programa que lê duas notas parciais obtidas por um aluno numa disciplina ao longo de um semestre, e calcule sua média. A atribuição de conceitos obedece às regras:\n",
    "\n",
    "#O programa deve mostrar na tela as notas, a média, o conceito correspondente e a mensagem 'APROVADO' se o conceito for A,B ou C ou 'REPROVADO' se o conceito for D ou E.\n",
    "\n",
    "nota1 = float(input(\"Digite sua primeira nota: \"))\n",
    "nota2 = float(input(\"Digite sua segunda nota: \"))\n",
    "\n",
    "mediaNota = nota1 + nota2/2\n",
    "\n",
    "if mediaNota >= 9.0 and mediaNota <= 10:\n",
    "    print(f\"Parabéns, você foi APROVADO suas notas foram {nota1} e {nota2}, sua média foi {mediaNota} e seu conceito foi A\")\n",
    "elif mediaNota >= 7.5 and mediaNota <= 9.0:\n",
    "    print(f\"Parabéns, você foi APROVADO suas notas foram {nota1} e {nota2}, sua média foi {mediaNota} e seu conceito foi B\")\n",
    "elif mediaNota >= 6.0 and mediaNota <= 7.5:\n",
    "    print(f\"Parabéns, você foi APROVADO suas notas foram {nota1} e {nota2}, sua média foi {mediaNota} e seu conceito foi C\")\n",
    "elif mediaNota >= 4.0 and mediaNota <= 6.0:\n",
    "    print(f\"Infelimente, você foi REPROVADO suas notas foram {nota1} e {nota2}, sua média foi {mediaNota} e seu conceito foi D\")    \n",
    "elif mediaNota >= 0.0 and mediaNota <= 4.0:\n",
    "    print(f\"Infelizmente, você foi REPROVADO suas notas foram {nota1} e {nota2}, sua média foi {mediaNota} e seu conceito foi E\")                    "
   ]
  },
  {
   "cell_type": "code",
   "execution_count": null,
   "metadata": {},
   "outputs": [],
   "source": [
    "#6 questão: Faça um programa que peça um número correspondente a um determinado ano e em seguida informe se este ano é ou não bissexto."
   ]
  },
  {
   "cell_type": "code",
   "execution_count": null,
   "metadata": {},
   "outputs": [],
   "source": [
    "#Para o ano ser bissexto ele devr ser divisivel por 4,100,400"
   ]
  },
  {
   "cell_type": "code",
   "execution_count": 7,
   "metadata": {},
   "outputs": [
    {
     "name": "stdout",
     "output_type": "stream",
     "text": [
      "Seu ano não é bissexto\n"
     ]
    }
   ],
   "source": [
    "ano = float(input(\"Digite um ano de sua escolha\"))\n",
    "\n",
    "#Fiz um situacional onde, caso o ano digitado seja divisivel por 4,100 ou 400, ele será considerado bissexto\n",
    "if ano/4 == 0 or ano/100 == 0 or ano/400 == 0:\n",
    "  print(\"Seu ano é bissexto\")\n",
    "else:\n",
    "  print(\"Seu ano não é bissexto\")"
   ]
  },
  {
   "cell_type": "code",
   "execution_count": null,
   "metadata": {},
   "outputs": [],
   "source": [
    "#7 Faça um programa que leia 2 números e em seguida pergunte ao usuário qual operação básica(soma,subtração,divisão,multiplicação e exponenciação)ele deseja realizar. O resultado da operação deve ser acompanhado de uma frase que diga se o número é : par ou impar; positivo ou negativo; inteiro ou decimal;"
   ]
  },
  {
   "cell_type": "code",
   "execution_count": 13,
   "metadata": {},
   "outputs": [],
   "source": [
    "num1 = float(input(\"Digite um numero\"))\n",
    "num2 = float(input(\"Digite outro numero\"))\n",
    "op = input(\"Qual operação você deseja realizar(soma,subtração,divisão,multiplicação e exponenciação)?\")\n",
    "\n",
    "\n",
    "if op == \"+\" or op == \"-\" or op == \"/\" or op == \"**\" or op == \"*\" :\n",
    "  print(f\"A {op} entre {num1}{op}{num2} é igual a\")"
   ]
  }
 ],
 "metadata": {
  "kernelspec": {
   "display_name": "Python 3",
   "language": "python",
   "name": "python3"
  },
  "language_info": {
   "codemirror_mode": {
    "name": "ipython",
    "version": 3
   },
   "file_extension": ".py",
   "mimetype": "text/x-python",
   "name": "python",
   "nbconvert_exporter": "python",
   "pygments_lexer": "ipython3",
   "version": "3.12.1"
  }
 },
 "nbformat": 4,
 "nbformat_minor": 2
}
