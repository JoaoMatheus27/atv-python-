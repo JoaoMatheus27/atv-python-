{
 "cells": [
  {
   "cell_type": "code",
   "execution_count": null,
   "metadata": {},
   "outputs": [],
   "source": [
    "#1 questão: Faça um programa que identifique se a letra digitada é impar ou par?"
   ]
  },
  {
   "cell_type": "code",
   "execution_count": 46,
   "metadata": {},
   "outputs": [
    {
     "name": "stdout",
     "output_type": "stream",
     "text": [
      "Sua letra é uma vogal\n"
     ]
    }
   ],
   "source": [
    "#Criando variável para letra.\n",
    "letra = input(\"Digite uma letra :\")\n",
    "\n",
    "#Situacional para diferenciar vogal de consoante.\n",
    "if letra == \"a\" or letra == \"e\" or letra == \"i\" or letra == \"o\" or letra == \"u\":\n",
    "    print(\"Sua letra é uma vogal\")\n",
    "else:\n",
    "    print(\"Sua letra é uma consoante\")\n"
   ]
  },
  {
   "cell_type": "code",
   "execution_count": null,
   "metadata": {},
   "outputs": [],
   "source": [
    "#2 questão: Faça um programa que pergunte o preço de três produtos e informe qual produto você deve comprar, sabendo que a decisão é sempre pelo mais barato."
   ]
  },
  {
   "cell_type": "code",
   "execution_count": 29,
   "metadata": {},
   "outputs": [
    {
     "name": "stdout",
     "output_type": "stream",
     "text": [
      "Digite o valor do primeiro produto :\n",
      "Digite o valor do segundo produto :\n",
      "Digite o valor do terceiro produto :\n",
      "Compre o produto 2 pelo valor de $1\n"
     ]
    }
   ],
   "source": [
    "#Criando variáveis dos números.\n",
    "preco1 = input(\"Digite o valor do primeiro produto :\")\n",
    "preco2 = input(\"Digite o valor do segundo produto :\")\n",
    "preco3 = input(\"Digite o valor do terceiro produto :\")\n",
    "\n",
    "#Criando os situacionais de preço para definir o melhor valor para compra.\n",
    "if preco1 < preco2 and preco1 < preco3 or preco3 > preco1 and preco2 > preco1:\n",
    "    print(f'Compre o produto 1 pelo valor de ${preco1}')\n",
    "\n",
    "elif preco2 < preco1 and preco2 < preco3 or preco3 > preco2 and preco1 > preco2:#Usando o elif para evitar o uso de massante de if e else.\n",
    "    print(f'Compre o produto 2 pelo valor de ${preco2}')\n",
    "\n",
    "elif preco3 < preco1 and preco3 < preco2 or preco2 > preco3 and preco1 > preco3:\n",
    "    print(f'Compre o produto 3 pelo valor de ${preco3}')\n"
   ]
  },
  {
   "cell_type": "code",
   "execution_count": null,
   "metadata": {},
   "outputs": [],
   "source": [
    "#3 questão: Faça um programa que leia três números e mostre-os em ordem crescente"
   ]
  },
  {
   "cell_type": "code",
   "execution_count": 4,
   "metadata": {},
   "outputs": [
    {
     "name": "stdout",
     "output_type": "stream",
     "text": [
      "20.0 15.0 10.0\n"
     ]
    }
   ],
   "source": [
    "#Variáveis dos números\n",
    "\n",
    "#Não esquecer de utilizar o float, para transformar a string em número. Caso não use, a lista não será ordenada de forma crescente.\n",
    "\n",
    "num1 = float(input(\"Digite um número :\"))\n",
    "num2 = float(input(\"Digite outro número :\"))\n",
    "num3 = float(input(\"Digite mais um número :\"))\n",
    "\n",
    "#Criando listas e printando em ordem crescente.\n",
    "listaNumeros = [num1,num2,num3]\n",
    "\n",
    "#definindo as variáveis do num1.No if ele como maior, no elif ele sendo o segundo maior numero, e no else ele comom o menor\n",
    "if num1 > num2 and num1 > num3 :\n",
    "  maiorNum = num1 \n",
    "elif num1 < num2 and num1 > num3 or num1 > num2 and num1 < num3:\n",
    "  medioNum = num1\n",
    "else: \n",
    "  menorNum = num1\n",
    "\n",
    "#definindo vairaveis num2.No if ele como maior, no elif ele sendo o segundo maior numero, e no else ele comom o menor\n",
    "if num2 > num1 and num2 > num3: \n",
    "  maiorNum = num2 \n",
    "elif num2 < num1 and num2 > num3 or num2 > num1 and num2 < num3:\n",
    "  medioNum = num2\n",
    "else: \n",
    "  menorNum = num2\n",
    "\n",
    "#definindo vairaveis num3. No if ele como maior, no elif ele sendo o segundo maior numero, e no else ele comom o menor\n",
    "if num3 > num2 and num3 > num1:\n",
    "  maiorNum = num3\n",
    "elif num3 < num1 and num3 > num2 or num2 > num1 and num1 < num3:\n",
    "  medioNum = num3\n",
    "else: \n",
    "  menorNum = num3\n",
    "\n",
    "print(maiorNum,medioNum,menorNum)"
   ]
  },
  {
   "cell_type": "code",
   "execution_count": null,
   "metadata": {},
   "outputs": [],
   "source": [
    "#4 questão: Faça um programa que pergunte em que turno você estuda. Peça para digitar M-matutino e V-verpertino ou N-noturno. Imprima a mensagem \"Bom dia!\",\"Boa tarde!\" ou \"Boa noite\" ou \"valor inválido,conforme o caso\""
   ]
  },
  {
   "cell_type": "code",
   "execution_count": 74,
   "metadata": {},
   "outputs": [
    {
     "name": "stdout",
     "output_type": "stream",
     "text": [
      "Valor inválido\n"
     ]
    }
   ],
   "source": [
    "#Criando variavel para perguntar os turnos.\n",
    "turno = (input(\"Qual turno você estuda? M para matutino, V para verpertino ou N para noturno :\"))\n",
    "\n",
    "#Utilizando if's para definir se é manha, tarde, noite ou se o valor é inválido.\n",
    "if turno == \"M\" or turno == \"m\":\n",
    "    print(\"Bom dia!\")\n",
    "\n",
    "elif turno == \"V\" or turno == \"v\":\n",
    "    print(\"Boa Tarde!\")\n",
    "\n",
    "elif turno == \"N\" or turno == \"n\":\n",
    "    print(\"Boa noite!\")  \n",
    "else:\n",
    "    print(\"Valor inválido\")      "
   ]
  },
  {
   "cell_type": "code",
   "execution_count": null,
   "metadata": {},
   "outputs": [],
   "source": [
    "#5 questão: Faça um programa que leia um número e exiba o dia correspondente da semana(1-Domingo, 2-Segunda, etc). Se for digitado outro valor deve retornar uma mensagem informando o valor inválido."
   ]
  },
  {
   "cell_type": "code",
   "execution_count": 10,
   "metadata": {},
   "outputs": [
    {
     "name": "stdout",
     "output_type": "stream",
     "text": [
      "inválido\n"
     ]
    }
   ],
   "source": [
    "#Criando variáveis para os dias da semana.\n",
    "listaDiasSemanais = [\"Domingo\",\"Segunda\",\"Terça\",\"Quarta\",\"Quinta\",\"Sexta\",\"Sábado\"]\n",
    "\n",
    "#Guardando o valor do input na variável \"diasNum\"\n",
    "diasNum = int(input(\"Digite um numero de 1 a 7\"))\n",
    "\n",
    "#Situacional para identificar os dias da semana ou se é inválido. \n",
    "if diasNum >= 1 and diasNum <= 7: #Dizendo que a variável \"diasNum\" tem que estar entre 1 e 7\n",
    "    print(listaDiasSemanais[diasNum - 1])#Printando um elemento da lista e tambem subtraindo 1, já que a contagem em python começa do índice zero. \n",
    "else:\n",
    "    print(\"inválido\")    \n"
   ]
  },
  {
   "cell_type": "code",
   "execution_count": 95,
   "metadata": {},
   "outputs": [
    {
     "name": "stdout",
     "output_type": "stream",
     "text": [
      "Parabéns, você foi REPROVADO suas notas foram 3.0 e 3.0, sua média foi 4.5 e seu conceito foi D \n"
     ]
    }
   ],
   "source": [
    "#5.1 questão: Faça um programa que lê duas notas parciais obtidas por um aluno numa disciplina ao longo de um semestre, e calcule sua média. A atribuição de conceitos obedece às regras:\n",
    "\n",
    "#O programa deve mostrar na tela as notas, a média, o conceito correspondente e a mensagem 'APROVADO' se o conceito for A,B ou C ou 'REPROVADO' se o conceito for D ou E.\n",
    "\n",
    "nota1 = float(input(\"Digite sua primeira nota: \"))\n",
    "nota2 = float(input(\"Digite sua segunda nota: \"))\n",
    "\n",
    "mediaNota = nota1 + (nota2/2)\n",
    "\n",
    "if mediaNota >= 9.0 and mediaNota <= 10:\n",
    "    print(f\"Parabéns, você foi APROVADO suas notas foram {nota1} e {nota2}, sua média foi {mediaNota} e seu conceito foi A\")\n",
    "elif mediaNota >= 7.5 and mediaNota <= 9.0:\n",
    "    print(f\"Parabéns, você foi APROVADO suas notas foram {nota1} e {nota2}, sua média foi {mediaNota} e seu conceito foi B\")\n",
    "elif mediaNota >= 6.0 and mediaNota <= 7.5:\n",
    "    print(f\"Parabéns, você foi APROVADO suas notas foram {nota1} e {nota2}, sua média foi {mediaNota} e seu conceito foi C\")\n",
    "elif mediaNota >= 4.0 and mediaNota <= 6.0:\n",
    "    print(f\"Infelimente, você foi REPROVADO suas notas foram {nota1} e {nota2}, sua média foi {mediaNota} e seu conceito foi D\")    \n",
    "elif mediaNota >= 0.0 and mediaNota <= 4.0:\n",
    "    print(f\"Infelizmente, você foi REPROVADO suas notas foram {nota1} e {nota2}, sua média foi {mediaNota} e seu conceito foi E\")                    "
   ]
  },
  {
   "cell_type": "code",
   "execution_count": null,
   "metadata": {},
   "outputs": [],
   "source": [
    "#6 questão: Faça um programa que peça um número correspondente a um determinado ano e em seguida informe se este ano é ou não bissexto."
   ]
  },
  {
   "cell_type": "code",
   "execution_count": null,
   "metadata": {},
   "outputs": [],
   "source": [
    "#Para o ano ser bissexto ele devr ser divisivel por 4,100,400"
   ]
  },
  {
   "cell_type": "code",
   "execution_count": 53,
   "metadata": {},
   "outputs": [
    {
     "name": "stdout",
     "output_type": "stream",
     "text": [
      "Seu ano não é bissexto\n"
     ]
    }
   ],
   "source": [
    "ano = float(input(\"Digite um ano de sua escolha\"))\n",
    "\n",
    "#Fiz um situacional onde, caso o ano digitado seja divisivel por 4,100 ou 400, ele será considerado bissexto\n",
    "if ano/4 == 0 or ano/100 == 0 or ano/400 == 0:\n",
    "  print(\"Seu ano é bissexto\")\n",
    "else:\n",
    "  print(\"Seu ano não é bissexto\")"
   ]
  },
  {
   "cell_type": "code",
   "execution_count": 11,
   "metadata": {},
   "outputs": [],
   "source": [
    "#7 Faça um programa que leia 2 números e em seguida pergunte ao usuário qual operação básica(soma,subtração,divisão,multiplicação e exponenciação)ele deseja realizar. O resultado da operação deve ser acompanhado de uma frase que diga se o número é : par ou impar; positivo ou negativo; inteiro ou decimal;"
   ]
  },
  {
   "cell_type": "code",
   "execution_count": 133,
   "metadata": {},
   "outputs": [
    {
     "name": "stdout",
     "output_type": "stream",
     "text": [
      "O resultado da sua operação é 20.6 . Esse resultado é par, ele também é positivo, sendo um número decimal. \n"
     ]
    }
   ],
   "source": [
    "#Definindo as variáveis dos números com o float para números e o input de inteaçao com o usuário. E o op para perguntar a operação.\n",
    "num1 = float(input(\"Digite um numero\"))\n",
    "num2 = float(input(\"Digite outro numero\"))\n",
    "op = input(\"Qual operação você deseja realizar(soma,subtração,divisão,multiplicação e exponenciação)?\")\n",
    "\n",
    "#Usando if,elif e else para que o programa leia qual a operação que foi escolhida no input acima. E no else para caso ocorra erro de digitação ou a pessoa digite uma operação que não está registrada.\n",
    "if op == \"soma\" or op == \"Soma\":\n",
    "     resultado = float(num1)+ float(num2)\n",
    "\n",
    "elif op == \"subtração\" or op == \"Subtração\" or op == \"subtraçao\" or op == \"Subtraçao\":\n",
    "    resultado = num1 - num2\n",
    "\n",
    "elif op == \"divisão\" or op == \"Divisão\" or op == \"divisao\" or op == \"Divisao\":\n",
    "  if num2 != 0:\n",
    "    resultado = num1 / num2\n",
    "  else:\n",
    "     print(\"Erro ao tentar dividir por 0\")\n",
    "\n",
    "elif op == \"multiplicação\" or op == \"Multiplicação\" or op == \"multiplicaçao\" or op == \"Multiplicaçao\":\n",
    "    resultado = num1 * num2\n",
    "  \n",
    "elif op == \"exponenciação\" or op == \"Exponenciação\" or op == \"exponenciaçao\" or op == \"Exponenciaçao\":\n",
    "    resultado = num1 ** num2\n",
    "\n",
    "else:\n",
    "    print(\"Operação inválida\")\n",
    "\n",
    "#Criando um situacional para identicar se o resultado da operação é impar ou par. Usando divisao com a \"%\" para que caso o resto seja 0 o número será par.\n",
    "if int(resultado)% 2 == 0 :\n",
    "  parImpar = \"par\"\n",
    "else:\n",
    "  parImpar = \"impar\"\n",
    "    \n",
    "\n",
    "\n",
    "#Criando um situacional para identicar se o resultado da operação é negativo,positivo ou neutro. Usando os sinal de maior que , menor que, e igual.\n",
    "  \n",
    "if resultado >= 1:\n",
    "  sinal = \"positivo\"\n",
    "elif resultado == 0:\n",
    "  sinal = \"neutro\"\n",
    "else:\n",
    "  sinal = \"negativo\"\n",
    "\n",
    "#Criando um situacional para identicar se o resultado da operação é inteiro ou decimal. Utilizando o \"int\" para especificar que o número deve ser inteiro\n",
    "  \n",
    "if resultado ==  int(resultado):\n",
    "    intDeci = \"inteiro\"\n",
    "else:\n",
    "    intDeci = \"decimal\"\n",
    "\n",
    "#Printando todas as informações pedidas na questão nessa frase abaixo.\n",
    "   \n",
    "print(f\"O resultado da sua operação é {resultado} . Esse resultado é {parImpar}, ele também é {sinal}, sendo um número {intDeci}. \") \n",
    "          "
   ]
  },
  {
   "cell_type": "code",
   "execution_count": null,
   "metadata": {},
   "outputs": [],
   "source": [
    "#8 Faça um porgrama que peça a idade e exiba a informação. Os valores aceitáveis devem estar entre 0 e 150. Valores fora desse limite não poderão ser aceitos."
   ]
  },
  {
   "cell_type": "code",
   "execution_count": 1,
   "metadata": {},
   "outputs": [
    {
     "name": "stdout",
     "output_type": "stream",
     "text": [
      "A sua idade é 50\n"
     ]
    }
   ],
   "source": [
    "#Criando a variável da idade com o input\n",
    "idade =  int(input(\"Digite sua idade:\"))\n",
    "\n",
    "#Usando if para identificar se a idade é maior ou igual a 0 e menor ou igual a 150.\n",
    "if idade >= 0 and idade <=150:\n",
    "    print(f\"A sua idade é {idade}\")\n",
    "    #Usando o else para caso a idade seja menor que 0 ou maior que 150, o programa resondera que o valor nao poderá ser aceito\n",
    "else:\n",
    "    print(\"O valor da sua idade nao poderão ser aceitos.\")"
   ]
  },
  {
   "cell_type": "code",
   "execution_count": null,
   "metadata": {},
   "outputs": [],
   "source": [
    "#9 Utilizando estruturas de repetição e listas(com ou sem .append), faça um porgrama que leia 5 números e informe a soma e a média dos números."
   ]
  },
  {
   "cell_type": "code",
   "execution_count": 46,
   "metadata": {},
   "outputs": [
    {
     "name": "stdout",
     "output_type": "stream",
     "text": [
      "A soma dos números é: 15\n",
      "A média dos números é: 3.0\n"
     ]
    }
   ],
   "source": [
    "# Criando a lista de 5 números\n",
    "numeros = [1,2,3,4,5]\n",
    "\n",
    "#zerando a vairavel soma\n",
    "soma = 0\n",
    "\n",
    "# Loop para ler os números\n",
    "for numero in numeros:\n",
    "    # Adiciona o número atual à soma\n",
    "    soma += numero\n",
    "\n",
    "# Calcula a média dos números\n",
    "media = soma / len(numeros)\n",
    "\n",
    "# Exibe a soma e a média\n",
    "print(f\"A soma dos números é: {soma}\")\n",
    "print(f\"A média dos números é: {media}\")\n",
    "\n",
    "# #Caso queira pedir ao usuario os 5 numeros , pode trocar o loop por esse abaixo:\n",
    "\n",
    "# # Loop para ler os números\n",
    "# for i in range(5):\n",
    "#     numero = float(input(f\"Digite o {i+1}º número: \"))#pedindo os 5 numeros e adicionando 1 ao i já que o índice em python começa do 0\n",
    "#     numeros.append(numero)  # Adiciona o número à lista\n"
   ]
  },
  {
   "cell_type": "code",
   "execution_count": null,
   "metadata": {},
   "outputs": [],
   "source": [
    "#10 Faça um programa que peça um número inteiro e determine se ele é ou não um número primo. Um número primo é aquele que é divisível somente por ele mesmo e por 1."
   ]
  },
  {
   "cell_type": "code",
   "execution_count": 92,
   "metadata": {},
   "outputs": [
    {
     "name": "stdout",
     "output_type": "stream",
     "text": [
      "21 não é um número primo.\n"
     ]
    }
   ],
   "source": [
    "#Criando variávl para o pedir o numero\n",
    "numero = int(input(\"Digite um número inteiro\"))\n",
    "\n",
    "\n",
    "#definindo se o número é inteiro ou não. com if\n",
    "if  numero / numero == 1 and  numero/1 == numero and numero%4 != 0 and numero%6 != 0 and numero%9 != 0 and numero%139 != 0 :\n",
    "    print(\"O número digitado é primo\")\n",
    "else:\n",
    "    print(\"O número digitado não é primo\")\n",
    "\n"
   ]
  },
  {
   "cell_type": "code",
   "execution_count": null,
   "metadata": {},
   "outputs": [],
   "source": [
    "#11 O departamento Estadal de Meteorologia lhe contratou para desenvolve um programa que leia 5 temperaturas, e informe no final a menor e maior temperaturas informadas, bem como a média das temperaturas."
   ]
  },
  {
   "cell_type": "code",
   "execution_count": 103,
   "metadata": {},
   "outputs": [
    {
     "name": "stdout",
     "output_type": "stream",
     "text": [
      "O maior número é: 5.0\n",
      "O menor número é: 1.0\n",
      "A média dos cinco números é: 3.0\n"
     ]
    }
   ],
   "source": [
    "temperatura = []\n",
    "soma = 0\n",
    "\n",
    "\n",
    "# inicia um loop que se repete cinco vezes, onde o usuário é solicitado a inserir a temperatura de cinco dias diferentes. Cada temperatura inserida é adicionada à lista de temperaturas.\n",
    "for i in range(1,6):\n",
    "    temp = float(input(f'Informe a {i}ª temperatura: '))\n",
    "    temperatura.append(temp)\n",
    "    soma += temp\n",
    "# Definindo a maior temperatura como maior e caso uma outra temperatura inserida no input seja maior que a anterior, ela assume a posiçao de maior\n",
    "maior = temperatura[0]\n",
    "for temp in temperatura:\n",
    "    if temp > maior:\n",
    "        maior = temp\n",
    "\n",
    "# Definindo a menor temperatura como menor e caso uma outra temperatura inserida no input seja menor que a anterior, ela assume a posiçao de menor\n",
    "menor = temperatura[0]\n",
    "for temp in temperatura:\n",
    "    if temp < menor:\n",
    "        menor = temp\n",
    "\n",
    "# Calculando a média usando len pra ver quantos elementos tem na lista\n",
    "media = soma / len(temperatura)\n",
    "\n",
    "print(\"O maior número é:\", maior)\n",
    "print(\"O menor número é:\", menor)\n",
    "print(\"A média dos cinco números é:\", media)"
   ]
  },
  {
   "cell_type": "code",
   "execution_count": null,
   "metadata": {},
   "outputs": [],
   "source": [
    "#12 Um banco concederá um crédito especial aos seus clientes, variável com o saldo médio no último ano. Faça um algoritmo que leia o saldo médio de um cliente e calcule o valor do crédito de acordo com a tabela abaixo. Mostre uma mensagem informando o saldo médio e o valor do crédito."
   ]
  },
  {
   "cell_type": "code",
   "execution_count": 107,
   "metadata": {},
   "outputs": [
    {
     "name": "stdout",
     "output_type": "stream",
     "text": [
      "O seu saldo é 1000, e seu valor de crédito é 400.0\n"
     ]
    }
   ],
   "source": [
    "saldoMedio = int(input(\"Qual seu saldo?\"))\n",
    "\n",
    "#usando if para identifar se o saldo médio é maior ou igual ao numero seu saldo, e em seguida definindo o percentual.\n",
    "if saldoMedio >= 0 and saldoMedio <= 200:\n",
    "    percentual = None\n",
    "elif saldoMedio >= 201 and saldoMedio <= 400:\n",
    "    percentual = 20/100\n",
    "elif saldoMedio >= 401 and saldoMedio <= 600:\n",
    "    percentual = 30/100  \n",
    "elif saldoMedio > 601:\n",
    "    percentual = 40/100 \n",
    "    #fazendo o calculo multiplicando o saldo medio com o percentual\n",
    "calculo = saldoMedio*percentual        \n",
    "\n",
    "print(f\"O seu saldo é {saldoMedio}, e seu valor de crédito é {calculo}\")  "
   ]
  },
  {
   "cell_type": "code",
   "execution_count": 117,
   "metadata": {},
   "outputs": [],
   "source": [
    "#13  Você foi contratado(a) para fazer um serviço para o INSS (Instituto Nacional do Seguro Social) do Brasil. O trabalho consiste em criar um programa que diga a pessoa o ano que ela poderá se aposentar. Você deve perguntar a pessoa, o nome, a idade e criar uma mensagem dizendo em qual ano ela irá se aposentar. Considere que todas as pessoas poderão se aposentar aos 65 anos de idade."
   ]
  },
  {
   "cell_type": "code",
   "execution_count": 123,
   "metadata": {},
   "outputs": [
    {
     "name": "stdout",
     "output_type": "stream",
     "text": [
      "Olá joao, falta 48.0 anos para você poder se aposentar\n"
     ]
    }
   ],
   "source": [
    "nome = str(input(\"Qual seu nome?\"))\n",
    "idade = float(input(\"Qual sua idade?\"))\n",
    "\n",
    "#Usando if para caso a idade seja menor que 65. E em seguida subtraindo o 65 da idade inserida.\n",
    "if idade < 65:\n",
    "    anoAposentar = 65 - idade\n",
    "    print(f\"Olá {nome}, falta {anoAposentar} anos para você poder se aposentar.\")\n",
    "else:\n",
    "    (\"Você \")\n",
    "   \n",
    "    "
   ]
  },
  {
   "cell_type": "code",
   "execution_count": null,
   "metadata": {},
   "outputs": [],
   "source": [
    "#14 Faça um programa para o cálculo de uma folha de pagamento, sabendo que os descontos são do imposto de Renda, que depende do salário bruto (conforme tabela abaixo), 3% para o Sindicato e que o FGTS corresponde a 11% do salário bruto, mas não é descontado (é a empresa que deposita). O salário líquido corresponde ao salário bruto menos os descontos. O programa deverá pedir ao usuário o valor da sua hora e a quantidade de horas trabalhadas no mês"
   ]
  },
  {
   "cell_type": "code",
   "execution_count": 139,
   "metadata": {},
   "outputs": [
    {
     "name": "stdout",
     "output_type": "stream",
     "text": [
      "Seu salario Líquido é 2703.0\n"
     ]
    }
   ],
   "source": [
    "valorHora = float(input(\"Qual valor da sua hora?\"))\n",
    "quantHoras = float(input(\"Qual a quantidade de horas trabalhadas no mês?\"))\n",
    "salarioBruto = valorHora + quantHoras\n",
    "\n",
    "\n",
    "# Calcula o desconto do imposto de renda com base no salário bruto\n",
    "if salarioBruto <= 2112.00:\n",
    "    desconto = 0  # Não há desconto\n",
    "elif salarioBruto <= 2826.65:\n",
    "    desconto = salarioBruto * (7.5/100)\n",
    "elif salarioBruto <= 3751.05:\n",
    "    desconto = salarioBruto * (15/100)\n",
    "elif salarioBruto <= 4664.68:\n",
    "    desconto = salarioBruto * (22.5/100)\n",
    "else:\n",
    "    desconto = salarioBruto * (27.5/100)\n",
    "\n",
    "\n",
    "\n",
    "salarioLiq = salarioBruto - desconto\n",
    "print(f\"Seu salario Líquido é {salarioLiq}\")             "
   ]
  }
 ],
 "metadata": {
  "kernelspec": {
   "display_name": "Python 3",
   "language": "python",
   "name": "python3"
  },
  "language_info": {
   "codemirror_mode": {
    "name": "ipython",
    "version": 3
   },
   "file_extension": ".py",
   "mimetype": "text/x-python",
   "name": "python",
   "nbconvert_exporter": "python",
   "pygments_lexer": "ipython3",
   "version": "3.12.2"
  }
 },
 "nbformat": 4,
 "nbformat_minor": 2
}
