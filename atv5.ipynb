{
 "cells": [
  {
   "cell_type": "code",
   "execution_count": null,
   "metadata": {},
   "outputs": [],
   "source": [
    "for produto in range(0, 4):\n",
    "    p= str(input(\"Digite o nome do produto\"))\n",
    "    v = float(input(\"Digite o valor do produto\"))"
   ]
  },
  {
   "cell_type": "code",
   "execution_count": 1,
   "metadata": {},
   "outputs": [
    {
     "name": "stdout",
     "output_type": "stream",
     "text": [
      "Estamos no elemento 1\n",
      "Estamos no elemento 2\n",
      "Estamos no elemento 3\n",
      "Estamos no elemento 4\n",
      "Estamos no elemento 5\n",
      "Estamos no elemento 6\n"
     ]
    }
   ],
   "source": [
    "for elemento in [1, 2, 3, 4, 5, 6]:\n",
    "    print('Estamos no elemento', elemento)"
   ]
  },
  {
   "cell_type": "code",
   "execution_count": 2,
   "metadata": {},
   "outputs": [
    {
     "name": "stdout",
     "output_type": "stream",
     "text": [
      "Estamos no elemento s\n",
      "Estamos no elemento t\n",
      "Estamos no elemento r\n",
      "Estamos no elemento i\n",
      "Estamos no elemento n\n",
      "Estamos no elemento g\n"
     ]
    }
   ],
   "source": [
    "for elemento in 'string':\n",
    "    print('Estamos no elemento', elemento)   "
   ]
  },
  {
   "cell_type": "code",
   "execution_count": 17,
   "metadata": {},
   "outputs": [
    {
     "name": "stdout",
     "output_type": "stream",
     "text": [
      "Estamos no elemento 0\n",
      "Estamos no elemento 1\n",
      "Estamos no elemento 2\n",
      "Estamos no elemento 3\n",
      "Estamos no elemento 4\n",
      "Estamos no elemento 5\n"
     ]
    }
   ],
   "source": [
    "for elemento in range(len('string')):\n",
    "    print('Estamos no elemento', elemento)"
   ]
  },
  {
   "cell_type": "code",
   "execution_count": null,
   "metadata": {},
   "outputs": [],
   "source": [
    "# while"
   ]
  },
  {
   "cell_type": "code",
   "execution_count": 29,
   "metadata": {},
   "outputs": [
    {
     "name": "stdout",
     "output_type": "stream",
     "text": [
      "1\n",
      "2\n",
      "3\n",
      "4\n"
     ]
    }
   ],
   "source": [
    "produto = 0 # inicializaçao\n",
    "while produto < 4: #condiçao\n",
    "    # p= str(input(\"Digite o nome do produto\")) #corpo do loop\n",
    "    v = float(input(\"Digite o valor do produto\")) #corpo do loop\n",
    "    produto += 1 #incremento\n",
    "    print(produto)"
   ]
  },
  {
   "cell_type": "code",
   "execution_count": 22,
   "metadata": {},
   "outputs": [],
   "source": [
    "elemento = 0"
   ]
  },
  {
   "cell_type": "code",
   "execution_count": 21,
   "metadata": {},
   "outputs": [],
   "source": [
    "while elemento <= len([1,2,3,4,5,6]):\n",
    "    print('Estamos no elemento', elemento)\n",
    "#falta o incremento para evitar o loop infinito"
   ]
  },
  {
   "cell_type": "code",
   "execution_count": 23,
   "metadata": {},
   "outputs": [
    {
     "name": "stdout",
     "output_type": "stream",
     "text": [
      "Estamos no elemento 0\n",
      "Estamos no elemento 1\n",
      "Estamos no elemento 2\n",
      "Estamos no elemento 3\n",
      "Estamos no elemento 4\n",
      "Estamos no elemento 5\n",
      "Estamos no elemento 6\n"
     ]
    }
   ],
   "source": [
    "while elemento <= len([1,2,3,4,5,6]): #len = length\n",
    "    print('Estamos no elemento', elemento)\n",
    "    elemento += 1 #adicionando o incremento"
   ]
  },
  {
   "cell_type": "code",
   "execution_count": 4,
   "metadata": {},
   "outputs": [
    {
     "name": "stdout",
     "output_type": "stream",
     "text": [
      "Estamos no elemento S\n",
      "Estamos no elemento t\n",
      "Estamos no elemento r\n",
      "Estamos no elemento i\n",
      "Estamos no elemento n\n",
      "Estamos no elemento g\n"
     ]
    }
   ],
   "source": [
    "s = 'String'#criando variaveis para guardas as informaçoes\n",
    "indice = 0\n",
    "\n",
    "while indice in range (len(s)):\n",
    "    print('Estamos no elemento', s[indice])\n",
    "    indice += 1"
   ]
  },
  {
   "cell_type": "code",
   "execution_count": 8,
   "metadata": {},
   "outputs": [
    {
     "name": "stdout",
     "output_type": "stream",
     "text": [
      "0 t\n",
      "1 r\n",
      "2 a\n",
      "3 n\n",
      "4 q\n",
      "5 u\n",
      "6 i\n",
      "7 l\n",
      "8 o\n"
     ]
    }
   ],
   "source": [
    "palavra = 'tranquilo'\n",
    "for x, y in enumerate(palavra):# o x e y fazem parte da estrutura do enumerate, funcionado como variaveis string e valor.\n",
    "    print(x,y)"
   ]
  },
  {
   "cell_type": "code",
   "execution_count": 10,
   "metadata": {},
   "outputs": [
    {
     "name": "stdout",
     "output_type": "stream",
     "text": [
      "Tipo: <class 'enumerate'>\n",
      "[(0, 'eat'), (1, 'sleep'), (2, 'repeat')]\n"
     ]
    }
   ],
   "source": [
    "lista = ['eat','sleep','repeat'] #criando lista\n",
    "palavra = 'geek' #criando variavel\n",
    "\n",
    "objeto1 = enumerate(lista)#criando vairaveis para os enumerates\n",
    "objeto2 = enumerate(palavra)\n",
    "\n",
    "print(\"Tipo:\", type(objeto1))#pritnando o codigo\n",
    "print(list(enumerate(lista))) "
   ]
  },
  {
   "cell_type": "code",
   "execution_count": 12,
   "metadata": {},
   "outputs": [
    {
     "name": "stdout",
     "output_type": "stream",
     "text": [
      "[(4, 'g'), (5, 'e'), (6, 'e'), (7, 'k')]\n"
     ]
    }
   ],
   "source": [
    "print(list(enumerate(palavra,4)))#mudando o indice da contagem"
   ]
  },
  {
   "cell_type": "code",
   "execution_count": 15,
   "metadata": {},
   "outputs": [
    {
     "name": "stdout",
     "output_type": "stream",
     "text": [
      "Oi\n",
      "Oi\n",
      "Oi\n",
      "Oi\n",
      "Oi\n",
      "Oi\n",
      "Oi\n",
      "Oi\n",
      "Oi\n",
      "Oi\n",
      "Oi\n",
      "Oi\n",
      "Oi\n"
     ]
    }
   ],
   "source": [
    "#1. Quantas vezes a palavra Oi é impressa pelos seguintes comandos?\n",
    "\n",
    "variavel = \"viva o python\"\n",
    "for palavra in variavel:\n",
    "    print(\"Oi\")"
   ]
  },
  {
   "cell_type": "code",
   "execution_count": 16,
   "metadata": {},
   "outputs": [
    {
     "name": "stdout",
     "output_type": "stream",
     "text": [
      "Oi\n",
      "Oi\n",
      "Oi\n",
      "Oi\n",
      "Oi\n"
     ]
    }
   ],
   "source": [
    "#2. Quantas vezes a palavra Oi é impressa pelos seguintes comandos?\n",
    "\n",
    "variavel = \"viva o python\"\n",
    "for palavra in variavel[3:8]:\n",
    "    print(\"Oi\")"
   ]
  },
  {
   "cell_type": "code",
   "execution_count": 58,
   "metadata": {},
   "outputs": [
    {
     "name": "stdout",
     "output_type": "stream",
     "text": [
      "quantidade de numeros pares é 8\n",
      "quantidade de numeros impares é 2\n"
     ]
    }
   ],
   "source": [
    "#desafio\n",
    "\n",
    "# 1.Faça um programa que peça 10 numeros inteiros, calcule e mostre a quantidade de números pares e a quantidade de números ímpares\n",
    "\n",
    "numero1 = 0\n",
    "numero2 = 0\n",
    "\n",
    "for numeros in range(0,10):\n",
    "    numeros = int(input(\"digite um numero\"))\n",
    "    if numeros%2 == 0:\n",
    "        numero1 += 1\n",
    "    else:\n",
    "        numero2 +=1\n",
    "        \n",
    "(print(\"quantidade de numeros pares é\", numero1))  \n",
    "(print(\"quantidade de numeros impares é\", numero2))      \n",
    "    \n",
    "    \n",
    "\n",
    " "
   ]
  }
 ],
 "metadata": {
  "kernelspec": {
   "display_name": "Python 3",
   "language": "python",
   "name": "python3"
  },
  "language_info": {
   "codemirror_mode": {
    "name": "ipython",
    "version": 3
   },
   "file_extension": ".py",
   "mimetype": "text/x-python",
   "name": "python",
   "nbconvert_exporter": "python",
   "pygments_lexer": "ipython3",
   "version": "3.11.9"
  }
 },
 "nbformat": 4,
 "nbformat_minor": 2
}
