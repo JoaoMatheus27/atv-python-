{
 "cells": [
  {
   "cell_type": "code",
   "execution_count": 9,
   "metadata": {},
   "outputs": [],
   "source": [
    "#a) O produto do dobro do primeiro com metade do segundo.\n",
    "num1 = int(input(\"Escreva um numero inteiro\"))\n",
    "num2 = int(input(\"Escreva outro numero inteiro\"))\n",
    "num3 = float(input(\"Escreva um numero real\"))\n",
    "num3= (num1 * 2) * (num2/2)\n"
   ]
  },
  {
   "cell_type": "code",
   "execution_count": 12,
   "metadata": {},
   "outputs": [
    {
     "data": {
      "text/plain": [
       "3405"
      ]
     },
     "execution_count": 12,
     "metadata": {},
     "output_type": "execute_result"
    }
   ],
   "source": [
    "#b)A soma do triplo do primeiro com o terceiro. o terceiro elevado ao cubo.\n",
    "num1 = int(input(\"Escreva um numero inteiro\"))\n",
    "num2 = int(input(\"Escreva outro numero inteiro\"))\n",
    "num3 = float()\n",
    "(num1*3)+ (num3**3)"
   ]
  },
  {
   "cell_type": "code",
   "execution_count": 15,
   "metadata": {},
   "outputs": [
    {
     "name": "stdout",
     "output_type": "stream",
     "text": [
      "20\n"
     ]
    }
   ],
   "source": [
    "#2) Faça um Programa que peça dois números e imprima o maior deles.\n",
    "num1 = int(input(\"Escreva um numero inteiro\"))\n",
    "num2 = int(input(\"Escreva outro numero inteiro\"))\n",
    "if(num1>num2):\n",
    "    print(num1)\n",
    "else:\n",
    "    print(num2)"
   ]
  },
  {
   "cell_type": "code",
   "execution_count": 18,
   "metadata": {},
   "outputs": [
    {
     "name": "stdout",
     "output_type": "stream",
     "text": [
      "positivo\n"
     ]
    }
   ],
   "source": [
    "#3) Faça um Programa que peça um valor e mostre na tela se o valor é positivo ou negativo.\n",
    "num1 = int(input(\"Escreva um numero inteiro\"))\n",
    "if (num1>=0):\n",
    "    print(\"positivo\")\n",
    "else:\n",
    "    print(\"negativo\")"
   ]
  },
  {
   "cell_type": "code",
   "execution_count": 23,
   "metadata": {},
   "outputs": [
    {
     "name": "stdout",
     "output_type": "stream",
     "text": [
      "reprovado\n"
     ]
    }
   ],
   "source": [
    "#4) Faça um programa para a leitura de duas notas parciais de um aluno. O programa deve calcular a média alcançada por aluno e apresentar o resultado \"Aprovado\" ou \"Reprovado\". Considere que a escola adota média 7.00.\n",
    "num1 = int(input(\"Escreva um numero inteiro\"))\n",
    "num2 = int(input(\"Escreva outro numero inteiro\"))\n",
    "parcial = (num1+num2)/2\n",
    "if (parcial >=7):\n",
    "    print(\"aprovado\")\n",
    "else:\n",
    "    print(\"reprovado\")\n",
    "    "
   ]
  },
  {
   "cell_type": "code",
   "execution_count": 53,
   "metadata": {},
   "outputs": [
    {
     "name": "stdout",
     "output_type": "stream",
     "text": [
      "4\n"
     ]
    }
   ],
   "source": [
    "#5)Faça um Programa que leia três números e mostre o maior deles.\n",
    "num1 = 3\n",
    "num2 = 5\n",
    "num3 = 4\n",
    "\n",
    "if (num1>num2 and num3<num1):\n",
    "    print(num1)\n",
    "elif (num2>num3 and num1>num2):\n",
    "    print(num2)\n",
    "else:\n",
    "    print(num3)"
   ]
  }
 ],
 "metadata": {
  "kernelspec": {
   "display_name": "Python 3",
   "language": "python",
   "name": "python3"
  },
  "language_info": {
   "codemirror_mode": {
    "name": "ipython",
    "version": 3
   },
   "file_extension": ".py",
   "mimetype": "text/x-python",
   "name": "python",
   "nbconvert_exporter": "python",
   "pygments_lexer": "ipython3",
   "version": "3.12.1"
  }
 },
 "nbformat": 4,
 "nbformat_minor": 2
}
