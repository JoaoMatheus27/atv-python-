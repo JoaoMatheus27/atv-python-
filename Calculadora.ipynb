{
 "cells": [
  {
   "cell_type": "code",
   "execution_count": null,
   "metadata": {},
   "outputs": [],
   "source": [
    "#criando uma calculadora"
   ]
  },
  {
   "cell_type": "code",
   "execution_count": null,
   "metadata": {},
   "outputs": [],
   "source": [
    "def soma(n1,n2):\n",
    "    return n1+n2\n",
    "\n",
    "def subtrair(n1,n2):\n",
    "    return n1-n2\n",
    "\n",
    "def multiplicar(n1,n2):\n",
    "    return n1*n2\n",
    "\n",
    "def dividir(n1,n2):\n",
    "    return n1/n2\n",
    "\n",
    "def exponeciacao(n1,n2):\n",
    "    return n1**n2\n",
    "\n",
    "def porcentagem(n1,n2):\n",
    "    return n1*(n2/100)\n"
   ]
  },
  {
   "cell_type": "code",
   "execution_count": null,
   "metadata": {},
   "outputs": [],
   "source": [
    "while True:\n",
    "    print(\"+======================================+\")\n",
    "    print(\"| MENU DE OPERAÇÕES                    |\")\n",
    "    print(\"| Digite o número de uma das operações |\")\n",
    "    print(\"|  1 - somar                           |\")\n",
    "    print(\"|  2 - subtrair                        |\")\n",
    "    print(\"|  3 - multiplicar                     |\")\n",
    "    print(\"|  4 - dividir                         |\")\n",
    "    print(\"|  5 - exponenciação                   |\")\n",
    "    print(\"|  6 - porcentagem                     |\")\n",
    "    print(\"|  0 - sair                            |\")\n",
    "    print(\"+======================================+\")\n",
    "\n",
    "    op = int(input())\n",
    "    if op==0:\n",
    "        print(f' \\n X Você fechou a calculadora X')\n",
    "        break\n",
    "\n",
    "    n1 = int(input(\"Primeiro número\"))\n",
    "    n2 = int(input(\"Primeiro número\"))\n",
    "\n",
    "    if op == 1:\n",
    "        print(f'O resultado da soma é {soma(n1,n2)}')\n",
    "    elif op == 2:\n",
    "        print(f'O resultado da subtraçao é {subtrair(n1,n2)}')\n",
    "    elif op == 3:\n",
    "        print(f'O resultado da multiplicação é {multiplicar(n1,n2)}')\n",
    "    elif op == 4:\n",
    "        print(f'O resultado da divisão é {dividir(n1,n2)}')\n",
    "    elif op == 5:\n",
    "        print(f'O resultado da exponenciação é {exponeciacao(n1,n2)}')\n",
    "    elif op == 6:\n",
    "        print(f'O resultado da porcentagem é {porcentagem(n1,n2)}')\n",
    "    else:\n",
    "        print(f'Código invalido, escolhas os numeros da tabela.')\n",
    "    \n",
    "    break\n"
   ]
  }
 ],
 "metadata": {
  "kernelspec": {
   "display_name": "Python 3",
   "language": "python",
   "name": "python3"
  },
  "language_info": {
   "name": "python",
   "version": "3.11.9"
  }
 },
 "nbformat": 4,
 "nbformat_minor": 2
}
