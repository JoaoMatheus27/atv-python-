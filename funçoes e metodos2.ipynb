{
 "cells": [
  {
   "cell_type": "code",
   "execution_count": null,
   "metadata": {},
   "outputs": [],
   "source": [
    "#Funçoes e métodos"
   ]
  },
  {
   "cell_type": "code",
   "execution_count": null,
   "metadata": {},
   "outputs": [],
   "source": [
    "def funcaoLeitura():\n",
    "    for um in [1,2,3,4,5]:\n",
    "        print(\"Número\", um)\n",
    "\n",
    "funcaoLeitura()"
   ]
  },
  {
   "cell_type": "code",
   "execution_count": 7,
   "metadata": {},
   "outputs": [
    {
     "name": "stdout",
     "output_type": "stream",
     "text": [
      "Número 0\n",
      "Número 1\n",
      "Número 2\n",
      "Número 3\n",
      "Número 4\n"
     ]
    }
   ],
   "source": [
    "def funcaoLeitura():\n",
    "    for i in range(5):\n",
    "        print(\"Número\", i)\n",
    "\n",
    "funcaoLeitura()"
   ]
  },
  {
   "cell_type": "code",
   "execution_count": 3,
   "metadata": {},
   "outputs": [
    {
     "name": "stdout",
     "output_type": "stream",
     "text": [
      "o primeiro numero é 2\n",
      "o segundo numero é 3\n",
      "A soma numero é 5\n"
     ]
    }
   ],
   "source": [
    "#função pra somar dois números\n",
    "def addNum(n1,n2):\n",
    "    print(f'o primeiro numero é {n1}')\n",
    "    print(f'o segundo numero é {n2}')\n",
    "    print(f'A soma numero é {n1 + n2}')\n",
    "\n",
    "addNum(2,3)"
   ]
  },
  {
   "cell_type": "code",
   "execution_count": 11,
   "metadata": {},
   "outputs": [
    {
     "name": "stdout",
     "output_type": "stream",
     "text": [
      "Variável da função multiplica:  20\n"
     ]
    }
   ],
   "source": [
    "#variaveis globais e locais\n",
    "\n",
    "varGlobal = 10 #essa é uma variavel global\n",
    "def multiplicaçao(num1,num2):\n",
    "    varLocal = (num1 * num2) #essa é uma variavel local\n",
    "    print(\"Variável da função multiplica: \", varLocal)\n",
    "\n",
    "multiplicaçao(5,4)"
   ]
  },
  {
   "cell_type": "code",
   "execution_count": null,
   "metadata": {},
   "outputs": [],
   "source": [
    "#criando funçoes com outras funçoes"
   ]
  },
  {
   "cell_type": "code",
   "execution_count": 15,
   "metadata": {},
   "outputs": [],
   "source": [
    "def separarTexto(texto):\n",
    "    return texto.split()"
   ]
  },
  {
   "cell_type": "code",
   "execution_count": 18,
   "metadata": {},
   "outputs": [
    {
     "data": {
      "text/plain": [
       "['Cibele', 'Maria', 'Suely']"
      ]
     },
     "execution_count": 18,
     "metadata": {},
     "output_type": "execute_result"
    }
   ],
   "source": [
    "separarTexto(\"Cibele Maria Suely\")"
   ]
  },
  {
   "cell_type": "code",
   "execution_count": 26,
   "metadata": {},
   "outputs": [
    {
     "name": "stdout",
     "output_type": "stream",
     "text": [
      "Parâmetro 0 Cibele\n",
      "Parâmetro 1 Maria\n",
      "Parâmetro 2 Suely\n",
      "Parâmetro 3 Giggio\n",
      "Parâmetro 4 Madá\n",
      "Parâmetro 5 Luquinhas\n"
     ]
    }
   ],
   "source": [
    "#quando nao sabemos quantos parametros, usamo o *\n",
    "def variosParametros(*parametros):\n",
    "    for n, item in enumerate(parametros):\n",
    "        print(\"Parâmetro\",n,item)\n",
    "    return\n",
    "\n",
    "variosParametros(\"Cibele\", \"Maria\", \"Suely\",\"Giggio\",\"Madá\",\"Luquinhas\")"
   ]
  }
 ],
 "metadata": {
  "kernelspec": {
   "display_name": "Python 3",
   "language": "python",
   "name": "python3"
  },
  "language_info": {
   "codemirror_mode": {
    "name": "ipython",
    "version": 3
   },
   "file_extension": ".py",
   "mimetype": "text/x-python",
   "name": "python",
   "nbconvert_exporter": "python",
   "pygments_lexer": "ipython3",
   "version": "3.11.9"
  }
 },
 "nbformat": 4,
 "nbformat_minor": 2
}
